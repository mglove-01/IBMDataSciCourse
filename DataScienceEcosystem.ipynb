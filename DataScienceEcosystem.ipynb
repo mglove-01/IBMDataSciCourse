{
 "cells": [
  {
   "cell_type": "markdown",
   "id": "97b85003-ec22-4d12-a43b-9ecf45d82728",
   "metadata": {},
   "source": [
    "# Data Science Tools and Ecosystem"
   ]
  },
  {
   "cell_type": "markdown",
   "id": "af3bfb3b-82b0-4b5b-9f6b-91f9ac4a2fa3",
   "metadata": {},
   "source": [
    "In this notebook, Data Science Tools and Ecosystem are summarized."
   ]
  },
  {
   "cell_type": "markdown",
   "id": "6b3f1db7-3654-4bcc-8c50-8cffb3684531",
   "metadata": {},
   "source": [
    "Some of the popular languages that Data Scientists use are:\n",
    "1. R\n",
    "2. python\n",
    "3. SQL"
   ]
  },
  {
   "cell_type": "markdown",
   "id": "43875ad7-536c-4f97-a32b-22b3a998163e",
   "metadata": {},
   "source": [
    "Some of the commonly used libraries used by Data Scientists include:\n",
    "\n",
    "1. ggplot\n",
    "2. scipy\n",
    "3. pandas"
   ]
  },
  {
   "cell_type": "markdown",
   "id": "74eaf746-434c-4ac5-8001-648d4481e208",
   "metadata": {},
   "source": [
    "| Data Science Tools |\n",
    "| --- |\n",
    "| R |\n",
    "| python |\n",
    "| Jupyter notebook |"
   ]
  },
  {
   "cell_type": "markdown",
   "id": "a3c5b875-a3ec-4ff1-9226-595c7740528e",
   "metadata": {},
   "source": [
    "### Below are a few examples of evaluating arithmetic expressions in Python"
   ]
  },
  {
   "cell_type": "code",
   "execution_count": 23,
   "id": "51ae3db7-52b1-4b67-b764-4175dcaa3617",
   "metadata": {},
   "outputs": [
    {
     "data": {
      "text/plain": [
       "17"
      ]
     },
     "execution_count": 23,
     "metadata": {},
     "output_type": "execute_result"
    }
   ],
   "source": [
    "#This a simple arithmetic expression to mutiply then add integers\n",
    "(3*4)+5"
   ]
  },
  {
   "cell_type": "code",
   "execution_count": 25,
   "id": "7d6b3e06-fa9b-4341-9c6c-8dd16ccc6bf2",
   "metadata": {},
   "outputs": [
    {
     "data": {
      "text/plain": [
       "3.3333333333333335"
      ]
     },
     "execution_count": 25,
     "metadata": {},
     "output_type": "execute_result"
    }
   ],
   "source": [
    "#This will convert 200 minutes to hours by diving by 60\n",
    "200/60"
   ]
  },
  {
   "cell_type": "markdown",
   "id": "d9b37dc4-208e-4eb0-b1f3-70583a21e591",
   "metadata": {},
   "source": [
    "**Objectives:**\n",
    "- list common programming languages used in data science\n",
    "- create ordered lists\n",
    "- create a table"
   ]
  },
  {
   "cell_type": "markdown",
   "id": "d3ea05aa-ee45-4542-aa78-b28df914e28b",
   "metadata": {},
   "source": [
    "## Author\n",
    "Matt Glover"
   ]
  },
  {
   "cell_type": "code",
   "execution_count": null,
   "id": "23104a34-fa31-4c4c-9b29-e89c9460dbef",
   "metadata": {},
   "outputs": [],
   "source": []
  }
 ],
 "metadata": {
  "kernelspec": {
   "display_name": "Python 3 (ipykernel)",
   "language": "python",
   "name": "python3"
  },
  "language_info": {
   "codemirror_mode": {
    "name": "ipython",
    "version": 3
   },
   "file_extension": ".py",
   "mimetype": "text/x-python",
   "name": "python",
   "nbconvert_exporter": "python",
   "pygments_lexer": "ipython3",
   "version": "3.12.4"
  }
 },
 "nbformat": 4,
 "nbformat_minor": 5
}
